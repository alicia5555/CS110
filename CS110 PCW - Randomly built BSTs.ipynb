{
 "cells": [
  {
   "cell_type": "markdown",
   "metadata": {},
   "source": [
    "Before you turn this problem in, make sure everything runs as expected. First, **restart the kernel** (in the menubar, select Kernel$\\rightarrow$Restart) and then **run all cells** (in the menubar, select Cell$\\rightarrow$Run All).\n",
    "\n",
    "Note that this Pre-class Work is estimated to take **43 minutes**.\n",
    "\n",
    "Make sure you fill in any place that says `YOUR CODE HERE` or \"YOUR ANSWER HERE\", as well as your name and collaborators below:"
   ]
  },
  {
   "cell_type": "code",
   "execution_count": null,
   "metadata": {},
   "outputs": [],
   "source": [
    "NAME = \"Alicia wang\"\n",
    "COLLABORATORS = \"\""
   ]
  },
  {
   "cell_type": "markdown",
   "metadata": {},
   "source": [
    "---"
   ]
  },
  {
   "cell_type": "markdown",
   "metadata": {
    "deletable": false,
    "editable": false,
    "nbgrader": {
     "checksum": "53f91bdb5f2f106f06872a2a6e7a98f5",
     "grade": false,
     "grade_id": "cell-bd90321d310ba2d4",
     "locked": true,
     "schema_version": 1,
     "solution": false
    }
   },
   "source": [
    "# CS110 Pre-class Work - Randomly built BSTs\n",
    "\n",
    "## Part A. Average number of comparisons when searching"
   ]
  },
  {
   "cell_type": "markdown",
   "metadata": {
    "deletable": false,
    "editable": false,
    "nbgrader": {
     "checksum": "c1c60903cd4344daf3877a1a656e283e",
     "grade": false,
     "grade_id": "cell-9e8b16db9d917705",
     "locked": true,
     "schema_version": 1,
     "solution": false
    }
   },
   "source": [
    "## Question 0 [time estimate: 1 minute] \n",
    "\n",
    "Paste in the working code from last session's PCW for the class Node, which contains the methods for insertion, searching, and deletion. \n",
    "\n"
   ]
  },
  {
   "cell_type": "code",
   "execution_count": 13,
   "metadata": {
    "deletable": false,
    "nbgrader": {
     "checksum": "525698a22b0cee9c4cb74be2011232de",
     "grade": true,
     "grade_id": "cell-1eadb1312ac0519d",
     "locked": false,
     "points": 0,
     "schema_version": 1,
     "solution": true
    }
   },
   "outputs": [],
   "source": [
    "class Node:\n",
    "    def __init__(self, val):\n",
    "        self.l_child = None\n",
    "        self.r_child = None\n",
    "        self.parent = None\n",
    "        self.data = val\n",
    "\n",
    "    def insert(self, node):\n",
    "        \"\"\"inserts a node into a *non-empty* tree rooted at the node, returns\n",
    "        the root\"\"\"\n",
    "        if self.data > node.data:\n",
    "            if self.l_child is None:\n",
    "                self.l_child = node\n",
    "                node.parent = self\n",
    "            else:\n",
    "                self.l_child.insert(node)\n",
    "        else:\n",
    "            if self.r_child is None:\n",
    "                self.r_child = node\n",
    "                node.parent = self\n",
    "            else:\n",
    "                self.r_child.insert(node)\n",
    "        return self\n",
    "    \n",
    "    def minimum(self):\n",
    "        node = self\n",
    "        while node.l_child != None:\n",
    "            node = node.l_child\n",
    "        return node\n",
    "\n",
    "    def search_data(self, value):\n",
    "        \"\"\"searches a *non-empty* tree rooted at the node for a node with\n",
    "        data = value, returns the value if found, None otherwise\"\"\"\n",
    "        node = self.search(value)\n",
    "        if node:\n",
    "            return node.data\n",
    "        else:\n",
    "            return node\n",
    "        \n",
    "    def to_string(self): \n",
    "        print('self.data', self.data)\n",
    "        root=self\n",
    "        if not root: \n",
    "            return 'Nil'\n",
    "        else: \n",
    "            r = root.r_child.to_string() if root.r_child else 'Nil'\n",
    "            l = root.l_child.to_string() if root.l_child else 'Nil'\n",
    "        return 'Node(' + str(root.data) + ' L: ' + l + ' R: ' + r + ')'\n",
    "    \n",
    "    def search(self,value):\n",
    "        \n",
    "        # if the value is smaller, search in the left side of the tree\n",
    "        if value < self.data:\n",
    "            return self.l_child.search(value)\n",
    "        \n",
    "        # if the value is larger, search in the right side of the tree\n",
    "        else:\n",
    "            return self.r_child.search(value)\n",
    "        \n",
    "        # if the value is equal or not found\n",
    "        return self\n",
    "    \n",
    "    def inorder(self, root):\n",
    "        \n",
    "        # if the root is not empty \n",
    "        if root:\n",
    "            \n",
    "            self.inorder(root.l_child)\n",
    "            print(root.data)\n",
    "            self.inorder(root.r_child)\n",
    "    def delete(self, value):\n",
    "        \n",
    "        # if self is empty, return it\n",
    "        if self is None: \n",
    "            return self  \n",
    "\n",
    "        # if it is smaller, it is in the left side of the tree\n",
    "        if value < self.data: \n",
    "            self.l_child = Node.delete(self.l_child, value) \n",
    "\n",
    "        # If it is larger, it is in the right side of the tree\n",
    "        elif value > self.data: \n",
    "            self.r_child = Node.delete(self.r_child, value) \n",
    "\n",
    "        # if neither    \n",
    "        if self.r_child is None: \n",
    "            temp = self.l_child  \n",
    "            self = None\n",
    "            return temp \n",
    "        else:\n",
    "            if self.l_child is None: \n",
    "                temp = self.r_child  \n",
    "                self = None \n",
    "                return temp  \n",
    "        return self"
   ]
  },
  {
   "cell_type": "markdown",
   "metadata": {
    "deletable": false,
    "editable": false,
    "nbgrader": {
     "checksum": "a79cbf2799a45e4c351c9ed9f600c3b5",
     "grade": false,
     "grade_id": "cell-d3f754a4d3637207",
     "locked": true,
     "schema_version": 1,
     "solution": false
    }
   },
   "source": [
    "\n",
    "## Question 1 [time estimate: 5 minutes]\n",
    "\n",
    "Complete the following function that computes the depth of a given node in a BST identified by its root. Use the test below to make sure your code works properly (Optional: Why does the test work?)"
   ]
  },
  {
   "cell_type": "code",
   "execution_count": 2,
   "metadata": {
    "deletable": false,
    "nbgrader": {
     "checksum": "6040a364ba7372adc7f259a4b0d875fc",
     "grade": false,
     "grade_id": "cell-cd10e9a432673bd9",
     "locked": false,
     "schema_version": 1,
     "solution": true
    }
   },
   "outputs": [],
   "source": [
    "def depth(root, node):\n",
    "    \"\"\"\n",
    "    Finds the depth of the node in a BST. depth of root is 0.\n",
    "\n",
    "    Parameters\n",
    "    ----------\n",
    "    root \n",
    "        A node, the root of the BST\n",
    "    node \n",
    "        A node to compute the depth of\n",
    "\n",
    "    Returns\n",
    "    -------\n",
    "    d : int \n",
    "        Distance from node to root\n",
    "        \n",
    "    \"\"\"\n",
    "    depth = 0 #define depth\n",
    "    if root == node: #the depth of the root is 0\n",
    "        return 0\n",
    "    while node.parent != root: #condition while the node is not root's child\n",
    "        depth += 1 #update values\n",
    "        node = node.parent\n",
    "    depth += 1\n",
    "    return depth"
   ]
  },
  {
   "cell_type": "code",
   "execution_count": 4,
   "metadata": {},
   "outputs": [],
   "source": [
    "# Testing code \n",
    "import math\n",
    "bst = None\n",
    "nodes = [Node(15), Node(6), Node(18), Node(3), Node(7), \n",
    "         Node(17), Node(20), Node(2), Node(4)]\n",
    "for node in nodes:\n",
    "    if not bst:\n",
    "        bst = node\n",
    "    else:\n",
    "        bst.insert(node)\n",
    "#         insert(bst, node)\n",
    "for i in range(len(nodes)):\n",
    "    assert(depth(bst, nodes[i]) == int(math.log(i+1,2)))"
   ]
  },
  {
   "cell_type": "code",
   "execution_count": null,
   "metadata": {
    "deletable": false,
    "editable": false,
    "nbgrader": {
     "checksum": "46a630a4c6307c799c44715ec3868d58",
     "grade": true,
     "grade_id": "cell-c57bc5138040968c",
     "locked": true,
     "points": 1,
     "schema_version": 1,
     "solution": false
    }
   },
   "outputs": [],
   "source": [
    "# Please ignore this cell. This cell is for us to implement the tests \n",
    "# to see if your code works properly. "
   ]
  },
  {
   "cell_type": "markdown",
   "metadata": {
    "deletable": false,
    "editable": false,
    "nbgrader": {
     "checksum": "01fa65ccabde3f2f6a8c62aca64dcd53",
     "grade": false,
     "grade_id": "cell-bd8ce3e36c859c2e",
     "locked": true,
     "schema_version": 1,
     "solution": false
    }
   },
   "source": [
    "## Question 2 [time estimate: 5 minutes]\n",
    "\n",
    "Complete the following function, making use of `depth`, to calculate the average number of comparisons required to search for a randomly chosen element of a standard BST. For example, the following tree:\n",
    "\n",
    "                            12\n",
    "                              \\\n",
    "                               14\n",
    "\n",
    "will have an average number of comparisons of 1.5. This is because 50% of the time we will be searching for 12 (1 comparison), and 50% of the time we will be searching for 14 (2 comparisons).\n",
    "\n",
    "You can test your function with this test case by constructing the tree using the code from the last session's pre-class work. \n",
    "\n",
    "\n",
    "(*Hint*: the number of comparisons required to search for node a is `depth(root, a) + 1`.) "
   ]
  },
  {
   "cell_type": "code",
   "execution_count": 5,
   "metadata": {
    "deletable": false,
    "nbgrader": {
     "checksum": "5de9ebf48a00878b4b565237c2d88265",
     "grade": false,
     "grade_id": "cell-34e9cb302f1dad00",
     "locked": false,
     "schema_version": 1,
     "solution": true
    }
   },
   "outputs": [],
   "source": [
    "def avg_cmp(bst):\n",
    "    \"\"\"\n",
    "    Finds the average number of comparisons required \n",
    "    to search for a randomly chosen element of a standard BST. \n",
    "    \n",
    "    Parameters\n",
    "    ----------\n",
    "    bst \n",
    "        A Node, the root of the BST\n",
    "    \n",
    "    Returns\n",
    "    -------\n",
    "    n : float\n",
    "        Average number of comparisons\n",
    "        \n",
    "    \"\"\"\n",
    "    \n",
    "    average = [] #create an empty list for the average comparisons\n",
    "    for _ in range(20):\n",
    "        comp = depth(bst, node)+1 #call the function with the rule given\n",
    "        average.append(comp) #add this to the list\n",
    "        avco = sum(average)//len(average) #calculate the average"
   ]
  },
  {
   "cell_type": "code",
   "execution_count": null,
   "metadata": {
    "deletable": false,
    "editable": false,
    "nbgrader": {
     "checksum": "7c94a3d9e151e1a920e846ff98e118a8",
     "grade": true,
     "grade_id": "cell-dedc229bbb15d811",
     "locked": true,
     "points": 1,
     "schema_version": 1,
     "solution": false
    }
   },
   "outputs": [],
   "source": [
    "# Please ignore this cell. This cell is for us to implement the tests \n",
    "# to see if your code works properly. "
   ]
  },
  {
   "cell_type": "markdown",
   "metadata": {
    "deletable": false,
    "editable": false,
    "nbgrader": {
     "checksum": "219e1c0aea58c5955539210f5c34b000",
     "grade": false,
     "grade_id": "cell-4b7d0c4e86568346",
     "locked": true,
     "schema_version": 1,
     "solution": false
    }
   },
   "source": [
    "## Part B. Depth of randomly-built trees\n",
    "The average number of comparisons for a randomly chosen element within the tree is related to the “average depth” of the tree. Here the average depth of a tree is defined to be the average of the depths of all the nodes in the tree. \n",
    "\n",
    "## Question 1 [time estimate: 10 minutes]\n",
    "\n",
    "Complete the following function to find the maximum depth of a node in a given BST. The function must run in $\\mathrm{O}(N)$ time and use $\\mathrm{O}(h)$ space (where $N$ is the number of elements in the BST and $h$ is the height of the tree). Also, note that the maximum depth is equal to the height of the tree.\n"
   ]
  },
  {
   "cell_type": "code",
   "execution_count": 7,
   "metadata": {
    "deletable": false,
    "nbgrader": {
     "checksum": "71f602309416ba9c718f06f4cc466075",
     "grade": false,
     "grade_id": "cell-64aba253c2b1bada",
     "locked": false,
     "schema_version": 1,
     "solution": true
    }
   },
   "outputs": [],
   "source": [
    "def max_depth(bst):\n",
    "    \"\"\"\n",
    "    Finds the maximum depth of node in a BST.\n",
    "    \n",
    "    Parameters\n",
    "    ----------\n",
    "    bst \n",
    "        A Node, the root of the BST\n",
    "    \n",
    "    Returns\n",
    "    -------\n",
    "    h : int\n",
    "        The maximum depth in a BST\n",
    "        \n",
    "    \"\"\"\n",
    "    if bst: #checking that bst is not empty\n",
    "        dl = max_depth(bst.l_child) #depth of the left subtree\n",
    "        dr = max_depth(bst.r_child) #depth of the right subtree\n",
    "        \n",
    "    else: \n",
    "        return 0 #if it is empty, return 0\n",
    "    \n",
    "    h = max(dl, dr)+1 #the bigger from both subtrees is the maximum depth + 1\n",
    "    return h"
   ]
  },
  {
   "cell_type": "code",
   "execution_count": null,
   "metadata": {
    "deletable": false,
    "editable": false,
    "nbgrader": {
     "checksum": "641f559b2bcdfad11577dd6202a0e378",
     "grade": true,
     "grade_id": "cell-82deabcb0ea2e594",
     "locked": true,
     "points": 1,
     "schema_version": 1,
     "solution": false
    }
   },
   "outputs": [],
   "source": [
    "# Please ignore this cell. This cell is for us to implement the tests \n",
    "# to see if your code works properly. "
   ]
  },
  {
   "cell_type": "markdown",
   "metadata": {
    "deletable": false,
    "nbgrader": {
     "checksum": "3224988f295d6adc77632f7f4ff5c8e2",
     "grade": false,
     "grade_id": "cell-fd78b979c52b9527",
     "locked": true,
     "schema_version": 1,
     "solution": false
    }
   },
   "source": [
    "## Question 2 [time estimate: 5 minutes]\n",
    "\n",
    "Using the `avg_cmp` function, complete the following function to return the average depth of the tree. The average depth is related to the average number of comparisons as `average depth = (average comparisons - 1)`, since the root has depth zero."
   ]
  },
  {
   "cell_type": "code",
   "execution_count": 10,
   "metadata": {
    "deletable": false,
    "nbgrader": {
     "checksum": "90d64051c00f344fc6baaf3ae169c87f",
     "grade": false,
     "grade_id": "cell-347916904e4a8379",
     "locked": false,
     "schema_version": 1,
     "solution": true
    }
   },
   "outputs": [],
   "source": [
    "import random\n",
    "def avg_depth(bst):\n",
    "    \"\"\"\n",
    "    Computes the average depth of a BST\n",
    "    \n",
    "    Parameters\n",
    "    ----------\n",
    "    bst\n",
    "        A Node, root of the BST\n",
    "    \n",
    "    Returns\n",
    "    -------\n",
    "    avg_d : float\n",
    "        Average depth of the BST\n",
    "        \n",
    "    \"\"\"\n",
    "    average = [] #create a list for average\n",
    "    node = randrange(100) #choose a random number\n",
    "    for _ in range(20):\n",
    "        comp = depth(bst, node)+1 #call the function\n",
    "        average.append(comp) #add this to the list\n",
    "        avg_d = sum(average)//len(average) #take the average"
   ]
  },
  {
   "cell_type": "code",
   "execution_count": null,
   "metadata": {
    "deletable": false,
    "editable": false,
    "nbgrader": {
     "checksum": "43da2ece71043e2a56753ec2f9b208dc",
     "grade": true,
     "grade_id": "cell-1bd7535fe6950d5f",
     "locked": true,
     "points": 1,
     "schema_version": 1,
     "solution": false
    }
   },
   "outputs": [],
   "source": [
    "# Please ignore this cell. This cell is for us to implement the tests \n",
    "# to see if your code works properly. "
   ]
  },
  {
   "cell_type": "markdown",
   "metadata": {
    "deletable": false,
    "editable": false,
    "nbgrader": {
     "checksum": "25274f67359e9c4280895dca8e0589d1",
     "grade": false,
     "grade_id": "cell-6365329a3c57c1b1",
     "locked": true,
     "schema_version": 1,
     "solution": false
    }
   },
   "source": [
    "## Question 3 [time estimate: 10 minutes]\n",
    "Now, insert randomly shuffled lists into BSTs, and measure the average depth and the maximum depth. How do these statistics scale as you increase $N$, the number of nodes? Make sure to give a compelling argument that motivates this scaling behaviour (you do not need to provide a technical derivation)."
   ]
  },
  {
   "cell_type": "markdown",
   "metadata": {
    "deletable": false,
    "nbgrader": {
     "checksum": "8a281cd793099803988046803bed99ba",
     "grade": true,
     "grade_id": "cell-bad918a333cabe43",
     "locked": false,
     "points": 0,
     "schema_version": 1,
     "solution": true
    }
   },
   "source": [
    "The average depth will increase logorithmically, since the average depth of a random input BST should be approaximately $lg n$. This is because the probability of getting a worst case scenario has been reduced through randomly choosing the root, which is similar to quick sort. But the maximum depth does not neccesarily increase at the same scale as if the tree is skewed and one branch has nodes with more depth, it is also likely that the average depth is n logn n as the majority of the nodes are in a balanced tree. "
   ]
  },
  {
   "cell_type": "markdown",
   "metadata": {
    "deletable": false,
    "editable": false,
    "nbgrader": {
     "checksum": "dd1dd0c5c45fc94abb6229a38d8e04a2",
     "grade": false,
     "grade_id": "cell-3255b4081c295fa6",
     "locked": true,
     "schema_version": 1,
     "solution": false
    }
   },
   "source": [
    "\n",
    "## Question 4 [time estimate: 7 minutes]\n",
    "\n",
    "Produce a plot showing the scaling behavior that you saw of both the average depth and the maximum depth as a function of the length of the shuffled list. For a meaningful figure, be sure to scale out to a list of size 10,000 and average the timings 50 times. (You don’t have to sample each value from 1 to 10,000!). Is this plot in agreement with the theoretical result you obtained in the previous question? Explain. \n"
   ]
  },
  {
   "cell_type": "code",
   "execution_count": 14,
   "metadata": {
    "deletable": false,
    "nbgrader": {
     "checksum": "a870cffbb739ec466993697791c20248",
     "grade": true,
     "grade_id": "cell-3034eb71070a6734",
     "locked": false,
     "points": 0,
     "schema_version": 1,
     "solution": true
    }
   },
   "outputs": [
    {
     "ename": "NameError",
     "evalue": "name 'randrange' is not defined",
     "output_type": "error",
     "traceback": [
      "\u001b[0;31m---------------------------------------------------------------------------\u001b[0m",
      "\u001b[0;31mNameError\u001b[0m                                 Traceback (most recent call last)",
      "\u001b[0;32m<ipython-input-14-c1fea819746b>\u001b[0m in \u001b[0;36m<module>\u001b[0;34m\u001b[0m\n\u001b[1;32m     13\u001b[0m             \u001b[0mbst\u001b[0m\u001b[0;34m.\u001b[0m\u001b[0minsert\u001b[0m\u001b[0;34m(\u001b[0m\u001b[0mx\u001b[0m\u001b[0;34m)\u001b[0m\u001b[0;34m\u001b[0m\u001b[0;34m\u001b[0m\u001b[0m\n\u001b[1;32m     14\u001b[0m \u001b[0;34m\u001b[0m\u001b[0m\n\u001b[0;32m---> 15\u001b[0;31m     \u001b[0mavg_depths\u001b[0m\u001b[0;34m.\u001b[0m\u001b[0mappend\u001b[0m\u001b[0;34m(\u001b[0m\u001b[0mavg_depth\u001b[0m\u001b[0;34m(\u001b[0m\u001b[0mbst\u001b[0m\u001b[0;34m)\u001b[0m\u001b[0;34m)\u001b[0m\u001b[0;34m\u001b[0m\u001b[0;34m\u001b[0m\u001b[0m\n\u001b[0m\u001b[1;32m     16\u001b[0m     \u001b[0mmax_depths\u001b[0m\u001b[0;34m.\u001b[0m\u001b[0mappend\u001b[0m\u001b[0;34m(\u001b[0m\u001b[0mmax_depth\u001b[0m\u001b[0;34m(\u001b[0m\u001b[0mbst\u001b[0m\u001b[0;34m)\u001b[0m\u001b[0;34m)\u001b[0m\u001b[0;34m\u001b[0m\u001b[0;34m\u001b[0m\u001b[0m\n",
      "\u001b[0;32m<ipython-input-10-c1e4f24cdbe4>\u001b[0m in \u001b[0;36mavg_depth\u001b[0;34m(bst)\u001b[0m\n\u001b[1;32m     16\u001b[0m     \"\"\"\n\u001b[1;32m     17\u001b[0m     \u001b[0maverage\u001b[0m \u001b[0;34m=\u001b[0m \u001b[0;34m[\u001b[0m\u001b[0;34m]\u001b[0m \u001b[0;31m#create a list for average\u001b[0m\u001b[0;34m\u001b[0m\u001b[0;34m\u001b[0m\u001b[0m\n\u001b[0;32m---> 18\u001b[0;31m     \u001b[0mnode\u001b[0m \u001b[0;34m=\u001b[0m \u001b[0mrandrange\u001b[0m\u001b[0;34m(\u001b[0m\u001b[0;36m100\u001b[0m\u001b[0;34m)\u001b[0m \u001b[0;31m#choose a random number\u001b[0m\u001b[0;34m\u001b[0m\u001b[0;34m\u001b[0m\u001b[0m\n\u001b[0m\u001b[1;32m     19\u001b[0m     \u001b[0;32mfor\u001b[0m \u001b[0m_\u001b[0m \u001b[0;32min\u001b[0m \u001b[0mrange\u001b[0m\u001b[0;34m(\u001b[0m\u001b[0;36m20\u001b[0m\u001b[0;34m)\u001b[0m\u001b[0;34m:\u001b[0m\u001b[0;34m\u001b[0m\u001b[0;34m\u001b[0m\u001b[0m\n\u001b[1;32m     20\u001b[0m         \u001b[0mcomp\u001b[0m \u001b[0;34m=\u001b[0m \u001b[0mdepth\u001b[0m\u001b[0;34m(\u001b[0m\u001b[0mbst\u001b[0m\u001b[0;34m,\u001b[0m \u001b[0mnode\u001b[0m\u001b[0;34m)\u001b[0m\u001b[0;34m+\u001b[0m\u001b[0;36m1\u001b[0m \u001b[0;31m#call the function\u001b[0m\u001b[0;34m\u001b[0m\u001b[0;34m\u001b[0m\u001b[0m\n",
      "\u001b[0;31mNameError\u001b[0m: name 'randrange' is not defined"
     ]
    }
   ],
   "source": [
    "max_depths = []\n",
    "avg_depths = []\n",
    "\n",
    "iteration = 10\n",
    "\n",
    "for k in range(iteration):\n",
    "    nodes = [Node(random.randint(-20,20)) for i in range(k*100)]\n",
    "\n",
    "    for x in nodes:\n",
    "        if not bst:\n",
    "            bst = x\n",
    "        else:\n",
    "            bst.insert(x)\n",
    "        \n",
    "    avg_depths.append(avg_depth(bst))\n",
    "    max_depths.append(max_depth(bst))"
   ]
  },
  {
   "cell_type": "code",
   "execution_count": null,
   "metadata": {},
   "outputs": [],
   "source": []
  }
 ],
 "metadata": {
  "kernelspec": {
   "display_name": "Python 3",
   "language": "python",
   "name": "python3"
  },
  "language_info": {
   "codemirror_mode": {
    "name": "ipython",
    "version": 3
   },
   "file_extension": ".py",
   "mimetype": "text/x-python",
   "name": "python",
   "nbconvert_exporter": "python",
   "pygments_lexer": "ipython3",
   "version": "3.7.6"
  }
 },
 "nbformat": 4,
 "nbformat_minor": 2
}
