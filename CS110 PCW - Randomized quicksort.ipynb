{
 "cells": [
  {
   "cell_type": "markdown",
   "metadata": {},
   "source": [
    "Before you turn this problem in, make sure everything runs as expected. First, **restart the kernel** (in the menubar, select Kernel$\\rightarrow$Restart) and then **run all cells** (in the menubar, select Cell$\\rightarrow$Run All).\n",
    "\n",
    "Note that this Pre-class Work is estimated to take **44 minutes**.\n",
    "\n",
    "Make sure you fill in any place that says `YOUR CODE HERE` or \"YOUR ANSWER HERE\", as well as your name and collaborators below:"
   ]
  },
  {
   "cell_type": "code",
   "execution_count": null,
   "metadata": {},
   "outputs": [],
   "source": [
    "NAME = \"Alicia\"\n",
    "COLLABORATORS = \"\""
   ]
  },
  {
   "cell_type": "markdown",
   "metadata": {},
   "source": [
    "---"
   ]
  },
  {
   "cell_type": "markdown",
   "metadata": {
    "deletable": false,
    "nbgrader": {
     "checksum": "a2025a945eae66ffac9bc4836ac511db",
     "grade": false,
     "grade_id": "cell-f534ec91df9dff5f",
     "locked": true,
     "schema_version": 1,
     "solution": false
    }
   },
   "source": [
    "# CS110 Pre-class Work - Randomized quicksort\n",
    "\n",
    "## Part A. Median-of-3 partitioning quicksort \n",
    "\n",
    "## Question 1 [time estimate: 10 minutes]\n",
    "\n",
    "Read through the following Python code. What does each function (i.e., median, qsort, randomized_qsort, test_qsort) do? Comment in details each function. \n"
   ]
  },
  {
   "cell_type": "code",
   "execution_count": 2,
   "metadata": {},
   "outputs": [
    {
     "name": "stdout",
     "output_type": "stream",
     "text": [
      "0.05423031600003014\n"
     ]
    }
   ],
   "source": [
    "import timeit\n",
    "import random\n",
    "\n",
    "eps = 1e-16\n",
    "N = 10000\n",
    "locations = [0.0, 0.5, 1.0 - eps]\n",
    "\n",
    "#this function finds the median of three numbers\n",
    "def median(x1, x2, x3):\n",
    "    if (x1 < x2 < x3) or (x3 < x2 < x1):\n",
    "        return x2\n",
    "    elif (x1 < x3 < x2) or (x2 < x3 < x1):\n",
    "        return x3\n",
    "    else:\n",
    "        return x1\n",
    "\n",
    "\n",
    "def qsort(lst):\n",
    "    indices = [(0, len(lst))] \n",
    "\n",
    "    while indices:\n",
    "        # randomly select the index of from and to\n",
    "        (frm, to) = indices.pop()\n",
    "        if frm == to:  # continue the loop to select once again if the two indexes happen to be the same\n",
    "            continue\n",
    "\n",
    "        # Find the partition:\n",
    "        N = to - frm    # number of items in the partition\n",
    "        inds = [frm + int(N * n) for n in locations]  # get the three indices of the beginning, middle and ending data point\n",
    "        values = [lst[ind] for ind in inds]  # get the corresponding value from the indices\n",
    "        partition = median(*values)  # get the median number in the list of values\n",
    "\n",
    "        # Split into lists:\n",
    "        lower = [a for a in lst[frm:to] if a < partition]\n",
    "        upper = [a for a in lst[frm:to] if a > partition]\n",
    "        counts = sum([1 for a in lst[frm:to] if a == partition])\n",
    "        \n",
    "        # indices\n",
    "        ind1 = frm + len(lower)\n",
    "        ind2 = ind1 + counts\n",
    "\n",
    "        # Push back into correct place:\n",
    "        lst[frm:ind1] = lower\n",
    "        lst[ind1:ind2] = [partition] * counts\n",
    "        lst[ind2:to] = upper\n",
    "\n",
    "        # Enqueue other locations\n",
    "        indices.append((frm, ind1))\n",
    "        indices.append((ind2, to))\n",
    "    return lst\n",
    "\n",
    "def randomized_quicksort():\n",
    "   # create a list of elements 1, 2, 3, ... , N\n",
    "    lst = [i for i in range(N)]\n",
    "    # randomize the list by shuffling\n",
    "    random.shuffle(lst)\n",
    "    return qsort(lst)\n",
    "\n",
    "\n",
    "def test_quicksort():\n",
    "    # get the list returned by the above function\n",
    "    lst = randomized_quicksort()\n",
    "    # test whether the list is sorted\n",
    "    assert (lst == [i for i in range(N)])\n",
    "\n",
    "\n",
    "# Is our algorithm correct\n",
    "test_quicksort()\n",
    "\n",
    "# How fast is our algorithm\n",
    "print(timeit.timeit(randomized_quicksort, number=1))"
   ]
  },
  {
   "cell_type": "markdown",
   "metadata": {
    "deletable": false,
    "editable": false,
    "nbgrader": {
     "checksum": "61fb11bff1434e4b7276c7443b0267c6",
     "grade": false,
     "grade_id": "cell-a2b2429aa4e81403",
     "locked": true,
     "schema_version": 1,
     "solution": false
    }
   },
   "source": [
    "## Question 2 [time estimate: 3 minutes]\n",
    "\n",
    "What are the main differences between the `randomized_quicksort` in the code and $RANDOMIZED-QUICKSORT$ in Cormen et al., besides that the partition of `randomized_quicksort` uses a median of 3 as a pivot?"
   ]
  },
  {
   "cell_type": "markdown",
   "metadata": {
    "deletable": false,
    "nbgrader": {
     "checksum": "8915b75d94bc194ba0f4e52e475063b4",
     "grade": true,
     "grade_id": "cell-4a3cd727ccac7404",
     "locked": false,
     "points": 0,
     "schema_version": 1,
     "solution": true
    }
   },
   "source": [
    "The difference is that this code, the randomization happen by shuffling the list before calling the function in line 52 and it is using comparisons, where Comen et al uses another method which is randomly choose a number from the list as the pivot number. "
   ]
  },
  {
   "cell_type": "markdown",
   "metadata": {
    "deletable": false,
    "editable": false,
    "nbgrader": {
     "checksum": "5853f10cab01212736d0e92ce408fa97",
     "grade": false,
     "grade_id": "cell-49bff57d4018e133",
     "locked": true,
     "schema_version": 1,
     "solution": false
    }
   },
   "source": [
    "## Question 3 [time estimate: 10 minutes]\n",
    "\n",
    "What is the time complexity of this `randomized_qsort`? Time the algorithm on lists of various lengths, each list being a list of the first $n$ consecutive positive integers. Produce a graph with list lengths on the x axis and running time on the y axis. As always, don’t forget to time the algorithm several times for each list’s length and then average the results. "
   ]
  },
  {
   "cell_type": "code",
   "execution_count": 3,
   "metadata": {
    "deletable": false,
    "nbgrader": {
     "checksum": "a321a7fcecb9c9cce252ea2c6030d4ce",
     "grade": true,
     "grade_id": "cell-e0e1dac71ac7feb6",
     "locked": false,
     "points": 0,
     "schema_version": 1,
     "solution": true
    }
   },
   "outputs": [],
   "source": [
    "import time \n",
    "#Define the function that calculates the time complexity\n",
    "def time_randomized_quicksort (X): \n",
    "    \n",
    "    #create an empty list to add running time to\n",
    "    running_time = [] \n",
    "    \n",
    "     #start the time and add it to the list\n",
    "    running_time.append(time.time())\n",
    "    \n",
    "    #call the function\n",
    "    qsort(X)\n",
    "    \n",
    "    #add the time after calling the function to the list of running time\n",
    "    running_time.append(time.time())\n",
    "    running_time.append(running_time[1]-running_time[0])\n",
    "    \n",
    "    #Return the running for the sorting algorthim\n",
    "    return running_time[2]\n",
    "\n",
    "#a list for the inputs of x-axis\n",
    "lsst = []  \n",
    "#create an empty list for each input's time\n",
    "qsort_time = [] \n",
    "\n",
    "#create the input\n",
    "for a in list(range (0,3000, 10)): \n",
    "    #a list to test the input\n",
    "    test_list = [] \n",
    "    single_test = []\n",
    "    #add the input to the list we created\n",
    "    lsst.append(a) \n",
    "    test_list = list(range(a,0,-1))\n",
    "    for n in range (10):\n",
    "        single_test.append (time_randomized_quicksort(test_list))\n",
    "    #add the running time\n",
    "    qsort_time.append (sum(single_test)/len(single_test) )"
   ]
  },
  {
   "cell_type": "code",
   "execution_count": 4,
   "metadata": {},
   "outputs": [
    {
     "data": {
      "image/png": "[encoded data removed]",
      "text/plain": [
       "<Figure size 432x288 with 1 Axes>"
      ]
     },
     "metadata": {
      "needs_background": "light"
     },
     "output_type": "display_data"
    }
   ],
   "source": [
    "import matplotlib.pyplot as plt\n",
    "%matplotlib inline\n",
    "#plotting the graph\n",
    "plt.plot(lsst,qsort_time, label=\"Randomized Quicksort\")\n",
    "plt.xlabel('list lengths')\n",
    "plt.ylabel('running time (seconds)')\n",
    "plt.title('The running time of randomized quicksort')\n",
    "\n",
    "leg = plt.legend();"
   ]
  },
  {
   "cell_type": "markdown",
   "metadata": {
    "deletable": false,
    "editable": false,
    "nbgrader": {
     "checksum": "b8751f930d9dc208113425646ea7fea8",
     "grade": false,
     "grade_id": "cell-1e8309c07c2f2908",
     "locked": true,
     "schema_version": 1,
     "solution": false
    }
   },
   "source": [
    "## Question 4.\n",
    "\n",
    "### Question 4a [time estimate: 7 minutes]\n",
    "\n",
    "Change the `qsort()` function in a way that you **don’t** separate the items that are equal to the partition. In other word, you may want to put the partition in either ```lower``` or ```upper``` list instead of using ``counts`` and ```lst[ind1:ind2] = [partition] * counts``` as we did in question 1."
   ]
  },
  {
   "cell_type": "code",
   "execution_count": 8,
   "metadata": {
    "deletable": false,
    "nbgrader": {
     "checksum": "797888f53fa36bcf0f9d891c4819d8e9",
     "grade": false,
     "grade_id": "cell-a9d1f063c0340b14",
     "locked": false,
     "schema_version": 1,
     "solution": true
    }
   },
   "outputs": [],
   "source": [
    "def qsort(lst):\n",
    "\n",
    "    indices = [(0, len(lst))]\n",
    "    \n",
    "    \n",
    "    while indices:\n",
    "        # randomly select the index of from and to\n",
    "        (frm, to) = indices.pop()\n",
    "        if frm == to:  # continue the loop to select once again if the two indexes happen to be the same\n",
    "            continue\n",
    "\n",
    "        # Find the partition:\n",
    "        N = to - frm    # number of items in the partition\n",
    "        inds = [frm + int(N * n) for n in locations]  # get the three indices of the beginning, middle and ending data point\n",
    "        values = [lst[ind] for ind in inds]  # get the corresponding value from the indices\n",
    "        partition = median(*values)  # get the median number in the list of values\n",
    "        \n",
    "        # Split into lists:\n",
    "        lower = [a for a in lst[frm:to] if a < partition]\n",
    "        upper = [a for a in lst[frm:to] if a > partition]\n",
    "        \n",
    "        # indices\n",
    "        ind1 = frm + len(lower)\n",
    "        ind2 = to - len(upper)\n",
    "\n",
    "        # Push back into correct place:\n",
    "        lst[frm:ind1] = lower\n",
    "        lst[ind2:to] = upper\n",
    "\n",
    "        # Enqueue other locations\n",
    "        indices.append((frm, ind1))\n",
    "        indices.append((ind2, to))\n",
    "    return lst"
   ]
  },
  {
   "cell_type": "code",
   "execution_count": 9,
   "metadata": {
    "deletable": false,
    "editable": false,
    "nbgrader": {
     "checksum": "ce755b787f1b82629d627d2f8bea66a5",
     "grade": true,
     "grade_id": "cell-2c0cbd296d612f85",
     "locked": true,
     "points": 1,
     "schema_version": 1,
     "solution": false
    }
   },
   "outputs": [],
   "source": [
    "assert(qsort([4,2,1])==[1,2,4])\n",
    "assert(qsort([4,4,2,2,1,1])==[1,1,2,2,4,4])\n",
    "assert(qsort([0])==[0])"
   ]
  },
  {
   "cell_type": "markdown",
   "metadata": {
    "deletable": false,
    "editable": false,
    "nbgrader": {
     "checksum": "3f5f9ca976fb636978e2bdfda98a5eeb",
     "grade": false,
     "grade_id": "cell-76883a453f020d72",
     "locked": true,
     "schema_version": 1,
     "solution": false
    }
   },
   "source": [
    "### Question 4b [time estimate: 3 minutes]\n",
    "\n",
    "Now time the algorithm on the same inputs you have used in question 3, adding one more line in the previous graph you have produced. "
   ]
  },
  {
   "cell_type": "code",
   "execution_count": 10,
   "metadata": {
    "deletable": false,
    "nbgrader": {
     "checksum": "33188fb282e53d117dfe275067ad3567",
     "grade": true,
     "grade_id": "cell-31ee807cec9ce8bf",
     "locked": false,
     "points": 0,
     "schema_version": 1,
     "solution": true
    }
   },
   "outputs": [],
   "source": [
    "len_input = [] #Create an empty list for the length of the input\n",
    "time2 = [] #Create an empty list for the time \n",
    "for a in list (range (0,3000, 10)): #create the input\n",
    "    test_list = [] #test the list\n",
    "    single_test = []\n",
    "    len_input.append(a) #add the input to the list of input length\n",
    "    test_list = list(range (a,0,-1)) #create a list for the test\n",
    "    for n in range (10):\n",
    "        single_test.append (time_randomized_quicksort(test_list))\n",
    "        #add the running time\n",
    "    time2.append(sum(single_test)/len(single_test))"
   ]
  },
  {
   "cell_type": "code",
   "execution_count": 11,
   "metadata": {},
   "outputs": [
    {
     "data": {
      "image/png": "[encoded data removed]",
      "text/plain": [
       "<Figure size 432x288 with 1 Axes>"
      ]
     },
     "metadata": {
      "needs_background": "light"
     },
     "output_type": "display_data"
    }
   ],
   "source": [
    "import matplotlib.pyplot as plt\n",
    "%matplotlib inline\n",
    "#plotting the graph\n",
    "plt.plot(lsst,qsort_time, label=\"Randomized Quicksort\")\n",
    "plt.plot(len_input, time2, label = \"Edited Randomized Quicksort\") \n",
    "plt.xlabel('list lengths')\n",
    "plt.ylabel('running time (seconds)')\n",
    "plt.title('The running time of randomized quicksort')\n",
    "\n",
    "leg = plt.legend();"
   ]
  },
  {
   "cell_type": "markdown",
   "metadata": {
    "deletable": false,
    "editable": false,
    "nbgrader": {
     "checksum": "991ee87c525d8fa29bd448aa80dbf243",
     "grade": false,
     "grade_id": "cell-b666e68e84dfce03",
     "locked": true,
     "schema_version": 1,
     "solution": false
    }
   },
   "source": [
    "## Question 5.\n",
    "\n",
    "### Question 5a [time estimate: 3 minutes]\n",
    "\n",
    "Remove the median-of-3 partitioning, and just use the first element in the array. "
   ]
  },
  {
   "cell_type": "code",
   "execution_count": null,
   "metadata": {
    "deletable": false,
    "nbgrader": {
     "checksum": "90dbb100f881a2c9a61720a0753ca401",
     "grade": false,
     "grade_id": "cell-4daf36021c15eaf0",
     "locked": false,
     "schema_version": 1,
     "solution": true
    }
   },
   "outputs": [],
   "source": [
    "def qsort(lst):\n",
    "    \n",
    "    indices = [(0, len(lst))]\n",
    "    \n",
    "    while indices:\n",
    "        # randomly select the index of from and to\n",
    "        (frm, to) = indices.pop()\n",
    "        if frm == to:  # continue the loop to select once again if the two indexes happen to be the same\n",
    "            continue\n",
    "\n",
    "        # Find the partition:\n",
    "        N = to - frm    # number of items in the partition\n",
    "        inds = [frm + int(N * n) for n in locations]  # get the three indices of the beginning, middle and ending data point\n",
    "        values = [lst[ind] for ind in inds]  # get the corresponding value from the indices\n",
    "        partition = values[0]  # use the first number as pivot\n",
    "\n",
    "        # Split into lists:\n",
    "        lower = [a for a in lst[frm:to] if a < partition]\n",
    "        upper = [a for a in lst[frm:to] if a > partition]\n",
    "        counts = sum([1 for a in lst[frm:to] if a == partition])\n",
    "        \n",
    "        # indices\n",
    "        ind1 = frm + len(lower)\n",
    "        ind2 = ind1 + counts\n",
    "\n",
    "        # Push back into correct place:\n",
    "        lst[frm:ind1] = lower\n",
    "        lst[ind1:ind2] = [partition] * counts\n",
    "        lst[ind2:to] = upper\n",
    "\n",
    "        # Enqueue other locations\n",
    "        indices.append((frm, ind1))\n",
    "        indices.append((ind2, to))\n",
    "    return lst"
   ]
  },
  {
   "cell_type": "code",
   "execution_count": null,
   "metadata": {
    "deletable": false,
    "editable": false,
    "nbgrader": {
     "checksum": "9d457eff304d19e031a8eabb4615ca3b",
     "grade": true,
     "grade_id": "cell-97473a9e0d12e745",
     "locked": true,
     "points": 1,
     "schema_version": 1,
     "solution": false
    }
   },
   "outputs": [],
   "source": [
    "assert(qsort([4,2,1])==[1,2,4])\n",
    "assert(qsort([0])==[0])"
   ]
  },
  {
   "cell_type": "markdown",
   "metadata": {
    "deletable": false,
    "editable": false,
    "nbgrader": {
     "checksum": "8f0166e7d0021886bb7176f35011a633",
     "grade": false,
     "grade_id": "cell-2ca71dd53b31262b",
     "locked": true,
     "schema_version": 1,
     "solution": false
    }
   },
   "source": [
    "### Question 5b [time estimate: 3 minutes]\n",
    "\n",
    "Does this change the running time of your algorithm? Justify your response with a graph. \n",
    "\n"
   ]
  },
  {
   "cell_type": "code",
   "execution_count": null,
   "metadata": {
    "deletable": false,
    "nbgrader": {
     "checksum": "bd863db414089f9ead9906b3c2c34a15",
     "grade": true,
     "grade_id": "cell-1f3a6df29d324853",
     "locked": false,
     "points": 0,
     "schema_version": 1,
     "solution": true
    }
   },
   "outputs": [],
   "source": [
    "len_input = [] #create a list for the input\n",
    "time2 = [] #create a list for time\n",
    "for a in list (range (0,1000, 10)): #create the input\n",
    "    test_list = [] #a list to test the input\n",
    "    single_test = []\n",
    "    lsst.append(a) #add the input to the input length list\n",
    "    test_list = list(range(a,0,-1)) #the list that we will test\n",
    "    for n in range (10):\n",
    "        single_test.append (time_randomized_quicksort (test_list))\n",
    "    #add the running time\n",
    "    time2.append(sum(single_test)/len(single_test))"
   ]
  },
  {
   "cell_type": "code",
   "execution_count": null,
   "metadata": {},
   "outputs": [],
   "source": [
    "import matplotlib.pyplot as plt\n",
    "%matplotlib inline\n",
    "#plotting the graph\n",
    "plt.plot(lsst,qsort_time, label=\"Randomized Quicksort\")\n",
    "plt.plot(len_input, time2, label = \"Edited Randomized Quicksort\") \n",
    "plt.xlabel('list lengths')\n",
    "plt.ylabel('running time (seconds)')\n",
    "plt.title('The running time of randomized quicksort')\n",
    "\n",
    "leg = plt.legend();"
   ]
  },
  {
   "cell_type": "markdown",
   "metadata": {
    "deletable": false,
    "editable": false,
    "nbgrader": {
     "checksum": "51af6d987694ab6231a6f4aa19f39164",
     "grade": false,
     "grade_id": "cell-67512d1d42af415f",
     "locked": true,
     "schema_version": 1,
     "solution": false
    }
   },
   "source": [
    "## Part B. Recursive quicksort [time estimate: 5 minutes]\n",
    "\n",
    "One main difference between the quicksort algorithms in Cormen et al. and the implementation in the code above is that quick sort (in the code in this notebook) is not recursive, while $QUICKSORT$ in Cormen et al. is. Given the limitation of Python so that it can only make 500 recursive calls, estimate the maximum size of the list that can be sorted by Python if a recursive quicksort is to be used. Explicitly state all assumptions you make in getting to an answer.\n"
   ]
  },
  {
   "cell_type": "markdown",
   "metadata": {
    "deletable": false,
    "nbgrader": {
     "checksum": "7be7bc411376ac8090621f3d68630c10",
     "grade": true,
     "grade_id": "cell-4af5aab4ad1a7225",
     "locked": false,
     "points": 0,
     "schema_version": 1,
     "solution": true
    }
   },
   "source": [
    "Assuming it is not the worst case scenario, 1 + 2 + 4 + 8 + 16 + 32 + 64 + 128 + 256 = 511. This will result in a tree with height of  8 layers. Since for the lowest sublist, there will be three elements in it, so the maximum length of the list is 3 * 256 = 768."
   ]
  },
  {
   "cell_type": "code",
   "execution_count": null,
   "metadata": {},
   "outputs": [],
   "source": []
  }
 ],
 "metadata": {
  "celltoolbar": "Edit Metadata",
  "kernelspec": {
   "display_name": "Python 3",
   "language": "python",
   "name": "python3"
  },
  "language_info": {
   "codemirror_mode": {
    "name": "ipython",
    "version": 3
   },
   "file_extension": ".py",
   "mimetype": "text/x-python",
   "name": "python",
   "nbconvert_exporter": "python",
   "pygments_lexer": "ipython3",
   "version": "3.7.6"
  }
 },
 "nbformat": 4,
 "nbformat_minor": 2
}
