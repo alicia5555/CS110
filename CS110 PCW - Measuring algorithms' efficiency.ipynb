{
 "cells": [
  {
   "cell_type": "markdown",
   "metadata": {},
   "source": [
    "Before you turn this problem in, make sure everything runs as expected. First, **restart the kernel** (in the menubar, select Kernel$\\rightarrow$Restart) and then **run all cells** (in the menubar, select Cell$\\rightarrow$Run All).\n",
    "\n",
    "Note that this Pre-class Work is estimated to take **31 minutes**.\n",
    "\n",
    "Make sure you fill in any place that says `YOUR CODE HERE` or \"YOUR ANSWER HERE\", as well as your name and collaborators below:"
   ]
  },
  {
   "cell_type": "code",
   "execution_count": null,
   "metadata": {},
   "outputs": [],
   "source": [
    "NAME = \"Alicia Wang\"\n",
    "COLLABORATORS = \"\""
   ]
  },
  {
   "cell_type": "markdown",
   "metadata": {},
   "source": [
    "---"
   ]
  },
  {
   "cell_type": "markdown",
   "metadata": {
    "deletable": false,
    "editable": false,
    "nbgrader": {
     "checksum": "df135f0c4ea26cc7c0b25cb64a20e634",
     "grade": false,
     "grade_id": "cell-b46066345313bea6",
     "locked": true,
     "schema_version": 1,
     "solution": false
    }
   },
   "source": [
    "# CS110 Pre-class Work - Measuring algorithms' efficiency\n",
    "\n",
    "## Question 1 [time estimate: 15 minutes]\n",
    "\n",
    "Copy and paste the code for Insertion, Selection, and Bubble sort algorithms you wrote in Lesson \"Analyzing elementary sorting algorithm\" on the cells below. For each sorting algorithm, modify the code to introduce step counters. Your functions should return only the number of steps they took to sort the list. This will help you in a in-class activity for this lesson and for the PCW of the next lesson. Make sure to test your code by provinding different input lists of different sizes."
   ]
  },
  {
   "cell_type": "code",
   "execution_count": 27,
   "metadata": {},
   "outputs": [],
   "source": [
    "import random"
   ]
  },
  {
   "cell_type": "code",
   "execution_count": 31,
   "metadata": {
    "deletable": false,
    "nbgrader": {
     "checksum": "525698a22b0cee9c4cb74be2011232de",
     "grade": true,
     "grade_id": "cell-1eadb1312ac0519d",
     "locked": false,
     "points": 0,
     "schema_version": 1,
     "solution": true
    }
   },
   "outputs": [
    {
     "name": "stdout",
     "output_type": "stream",
     "text": [
      "0\n",
      "10\n",
      "5\n",
      "59680\n"
     ]
    }
   ],
   "source": [
    "def insertion_sort(A):\n",
    "    steps = 0\n",
    "    for j in range(1,len(A)):\n",
    "        i = j-1\n",
    "        key = A[j]\n",
    "        while i >= 0 and A[i] > key:\n",
    "            A[i+1] = A[i]\n",
    "            i-=1\n",
    "            steps += 1\n",
    "        A[i+1] = key\n",
    "    return steps\n",
    "\n",
    "print (insertion_sort([2,5,8,10,43]))\n",
    "print (insertion_sort([43,10,8,5,2]))\n",
    "print(insertion_sort([7.8,1.1, 2.2, 2.1, 3.4]))\n",
    "print(insertion_sort([random.randrange(1,1000) for i in range(500)]))"
   ]
  },
  {
   "cell_type": "code",
   "execution_count": 32,
   "metadata": {
    "deletable": false,
    "nbgrader": {
     "checksum": "525698a22b0cee9c4cb74be2011232de",
     "grade": true,
     "grade_id": "cell-1eadb1312ac0519d",
     "locked": false,
     "points": 0,
     "schema_version": 1,
     "solution": true
    }
   },
   "outputs": [
    {
     "name": "stdout",
     "output_type": "stream",
     "text": [
      "0\n",
      "10\n",
      "5\n",
      "62401\n"
     ]
    }
   ],
   "source": [
    "def bubble_sort(A):\n",
    "    steps = 0\n",
    "    for i in range(len(A)-1):\n",
    "        for j in range(len(A)-1,i,-1):\n",
    "            if A[j-1] > A[j]:\n",
    "                steps+=1\n",
    "                A[j-1],A[j] = A[j] ,A[j-1]\n",
    "    return steps\n",
    "\n",
    "print (bubble_sort([2,5,8,10,43]))\n",
    "print (bubble_sort([43,10,8,5,2]))\n",
    "print(bubble_sort([7.8,1.1, 2.2, 2.1, 3.4]))\n",
    "print(insertion_sort([random.randrange(1,1000) for i in range(500)]))"
   ]
  },
  {
   "cell_type": "code",
   "execution_count": 33,
   "metadata": {
    "deletable": false,
    "nbgrader": {
     "checksum": "525698a22b0cee9c4cb74be2011232de",
     "grade": true,
     "grade_id": "cell-1eadb1312ac0519d",
     "locked": false,
     "points": 0,
     "schema_version": 1,
     "solution": true
    }
   },
   "outputs": [
    {
     "name": "stdout",
     "output_type": "stream",
     "text": [
      "14\n",
      "14\n",
      "14\n",
      "125249\n"
     ]
    }
   ],
   "source": [
    "def selection_sort(A):\n",
    "    steps = 0\n",
    "    n = len(A)\n",
    "    for i in range(n - 1):\n",
    "        small = i\n",
    "        for j in range(i + 1, n):\n",
    "            steps += 1\n",
    "            if A[j] < A[small]:\n",
    "                minidx = j\n",
    "        minimum = A[small]\n",
    "        A[small] = A[i]\n",
    "        A[i] = minimum\n",
    "        steps += 1\n",
    "    return steps\n",
    "\n",
    "print(selection_sort([2,5,8,10,43]))\n",
    "print (selection_sort([43,10,8,5,2]))\n",
    "print(selection_sort([7.8,1.1, 2.2, 2.1, 3.4]))\n",
    "print(selection_sort([random.randrange(1,1000) for i in range(500)]))"
   ]
  },
  {
   "cell_type": "markdown",
   "metadata": {
    "deletable": false,
    "editable": false,
    "nbgrader": {
     "checksum": "9d7a3b260b0fef93382fb52aa393f963",
     "grade": false,
     "grade_id": "cell-0ac1c20b43acb363",
     "locked": true,
     "schema_version": 1,
     "solution": false
    }
   },
   "source": [
    "## Question 2 [time estimate: 10 minutes]\n",
    "\n",
    "Studying these sorting algorithms in detail, identify for which kinds of input they would perform better or worst in completing the task of sorting a list. Give examples to complement your answer."
   ]
  },
  {
   "cell_type": "markdown",
   "metadata": {
    "deletable": false,
    "nbgrader": {
     "checksum": "eb02c9951e19ee43d128fa93dd53eaad",
     "grade": true,
     "grade_id": "cell-5ecb51404140cb2f",
     "locked": false,
     "points": 0,
     "schema_version": 1,
     "solution": true
    }
   },
   "source": [
    "- **Insertion Sort**\n",
    "    - Best-case input: \n",
    "        The best case input is when the list is already sorted, such as [2,5,8,10,43], the steps is 0 as A[i] < key when i has its initial value of j-1. The while loop will therefore not run as none of the previous number is bigger than the number on its right. And Θ(n)\n",
    "    - Worst-case input:\n",
    "        The worst case is when the list is sorted backwards. The example is [43,10,8,5,2]. The asymptotically tight bound is Θ(n^2). \n",
    "    \n",
    "- **Bubble Sort**\n",
    "    - Best-case input:\n",
    "        The best case is when the list is already sorted. o(n)\n",
    "    - Worst-case input:\n",
    "        The worst case is when the list is sorted backwards. O(n^2)\n",
    "    \n",
    "- **Selection Sort**\n",
    "    - Best-case input:\n",
    "        It will take the same amount of steps no matter how the input is arranged as it need to scan the whole list every time to ensure it got the minimum. Therefore the less the input number the faster it runs. o(n^2)\n",
    "    - Worst-case input: \n",
    "        it will be the same as the best base. "
   ]
  },
  {
   "cell_type": "markdown",
   "metadata": {
    "deletable": false,
    "editable": false,
    "nbgrader": {
     "checksum": "cb0b8b9c4b153530d47b437baa24098d",
     "grade": false,
     "grade_id": "cell-b22dce6b32afe1a9",
     "locked": true,
     "schema_version": 1,
     "solution": false
    }
   },
   "source": [
    "## Question 3 [time estimate: 3 minutes]\n",
    "\n",
    "Given your answers to the previous question, is there any algorithm that performs asymptotically the same for any kind of input? In other words, for which algorithm will the bigO/bigOmega/bigTheta notation be the same regardless of whether we're dealing with best-case inputs or worst case inputs?  Explain your answer."
   ]
  },
  {
   "cell_type": "markdown",
   "metadata": {
    "deletable": false,
    "nbgrader": {
     "checksum": "4ff5af35daed9a5442ba229263bdde33",
     "grade": true,
     "grade_id": "cell-442998d5fdd8b561",
     "locked": false,
     "points": 0,
     "schema_version": 1,
     "solution": true
    }
   },
   "source": [
    "Yes as selection sort is asymptotically the same for any arrangement of input because the for loop always go through the whole list and find the smallest one, and compare with others no matter they are already sorted or not. "
   ]
  },
  {
   "cell_type": "markdown",
   "metadata": {
    "deletable": false,
    "editable": false,
    "nbgrader": {
     "checksum": "cb0b8b9c4b153530d47b437baa24098d",
     "grade": false,
     "grade_id": "cell-b22dce6b32afe1a9",
     "locked": true,
     "schema_version": 1,
     "solution": false
    }
   },
   "source": [
    "## Question 4 [time estimate: 3 minutes]\n",
    "\n",
    "Besides the step counters you introduced and the algorithms' running times you studied in the previous session, can you think of other metrics you could use to measure an algorithm's efficiency? Explain your reasoning."
   ]
  },
  {
   "cell_type": "markdown",
   "metadata": {
    "nbgrader": {
     "checksum": "4ff5af35daed9a5442ba229263bdde33",
     "grade": true,
     "grade_id": "cell-442998d5fdd8b561",
     "locked": false,
     "points": 0,
     "schema_version": 1,
     "solution": true
    }
   },
   "source": [
    "Also measure by space and memory usage will work as some algorithms rake up space in RAM more than the others. We can look at the instruction space, data space, and run time stack space. "
   ]
  },
  {
   "cell_type": "code",
   "execution_count": null,
   "metadata": {},
   "outputs": [],
   "source": []
  }
 ],
 "metadata": {
  "kernelspec": {
   "display_name": "Python 3",
   "language": "python",
   "name": "python3"
  },
  "language_info": {
   "codemirror_mode": {
    "name": "ipython",
    "version": 3
   },
   "file_extension": ".py",
   "mimetype": "text/x-python",
   "name": "python",
   "nbconvert_exporter": "python",
   "pygments_lexer": "ipython3",
   "version": "3.7.6"
  }
 },
 "nbformat": 4,
 "nbformat_minor": 2
}
